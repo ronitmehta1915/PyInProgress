{
 "cells": [
  {
   "cell_type": "markdown",
   "metadata": {},
   "source": [
    "# Fun With <span style=\"color: green;\">Python</span>\n",
    "### <span style=\"color: red;\">Basics - Part 1</span>"
   ]
  },
  {
   "cell_type": "markdown",
   "metadata": {},
   "source": [
    "**Description:**\n",
    "\n",
    "Welcome, Bud,\n",
    "\n",
    "In this notebook, we are exploring the basics of Python and brushing up on simple concepts through a total of around 150 questions.  \n",
    "We'll work through various exercises curated from W3Schools' Python Basic-I Exercises section.\n",
    "\n",
    "**Link:** [Python Basic-I Exercises](https://www.w3resource.com/python-exercises/python-basic-exercises.php)\n"
   ]
  },
  {
   "cell_type": "markdown",
   "metadata": {},
   "source": [
    "### Table of Contents\n",
    "\n",
    "1. [Question-1](#question-1) - Python program to format and print a string\n",
    "2. [Question-2](#question-2) - Python program to determine the Python version\n",
    "3. [Question-3](#question-3) - Python program to display the current time\n",
    "4. [Question-4](#question-4) - Python program to calculate area of a circle based on radius\n",
    "5. [Question-5](#question-5) - Python program to reverse and print first and last names\n",
    "6. [Question-6](#question-6) - Python program to generate a list and tuple from comma-separated numbers\n",
    "7. [Question-7](#question-7) - Python program to print the file extension\n",
    "8. [Question-8](#question-8) - Python program to display the first and last values of a list\n",
    "9. [Question-9](#question-9) - Python program to display the examination schedule\n",
    "10. [Question-10](#question-10) - Python program to compute the value of n+nn+nnn\n",
    "11. [Question-11](#question-11) - Python program to print documentation of built-in function(s)\n",
    "12. [Question-12](#question-12) - Python program to print the calendar for a given month and year\n",
    "13. [Question-13](#question-13) - Python program to print a 'here document'\n",
    "14. [Question-14](#question-14) - Python program to calculate the number of days between two dates\n",
    "15. [Question-15](#question-15) - Python program to calculate the volume of a sphere\n",
    "16. [Question-16](#question-16) - Python program to calculate the difference between a given number and 17\n",
    "17. [Question-17](#question-17) - Python program to test whether a number is within 100 of 1000 or 2000\n",
    "18. [Question-18](#question-18) - Python program to calculate the sum of three numbers, returning thrice the sum if the values are equal\n",
    "19. [Question-19](#question-19) - Python program to add \"Is\" to the front of a string unless it already begins with \"Is\"\n",
    "20. [Question-20](#question-20) - Python program to return a string with n copies of a given string\n",
    "21. [Question-21](#question-21) - Python program to determine whether a given number is even or odd\n",
    "22. [Question-22](#question-22) - Python program to count the number 4 in a given list\n",
    "23. [Question-23](#question-23) - Python program to get n copies of the first 2 characters of a string, or the whole string if its length is less than 2\n",
    "24. [Question-24](#question-24) - Python program to test whether a passed letter is a vowel or not\n",
    "25. [Question-25](#question-25) - Python program to checks whether a specified value is contained within a group of values.\n",
    "26. [Question-26](#question-26) - Python program to create a star pattern from a given list of integers\n",
    "27. [Question-27](#question-27) - Python program to concatenate all elements in a list into a string\n",
    "28. [Question-28](#question-28) - Python program to print all even numbers from a list and stop after 237\n",
    "29. [Question-29](#question-29) - Python program to print all colors from color_list_1 that are not present in color_list_2\n",
    "30. [Question-30](#question-30) - Python program to calculate area of a triangle"
   ]
  },
  {
   "cell_type": "markdown",
   "metadata": {},
   "source": [
    "---"
   ]
  },
  {
   "cell_type": "markdown",
   "metadata": {},
   "source": [
    "## Question-1\n",
    "\n",
    "<strong>Write a Python program to print the following string in a specific format:</strong><br>\n",
    "\n",
    "**Sample String:**<br>\n",
    "\"Twinkle, twinkle, little star, How I wonder what you are!  \n",
    "Up above the world so high, Like a diamond in the sky.  \n",
    "Twinkle, twinkle, little star, How I wonder what you are\"\n",
    "\n",
    "**Expected Output:**  \n",
    "<pre>\n",
    "Twinkle, twinkle, little star,\n",
    "    How I wonder what you are!\n",
    "        Up above the world so high,\n",
    "        Like a diamond in the sky.\n",
    "Twinkle, twinkle, little star,\n",
    "    How I wonder what you are!\n",
    "</pre>\n"
   ]
  },
  {
   "cell_type": "code",
   "execution_count": 7,
   "metadata": {},
   "outputs": [
    {
     "name": "stdout",
     "output_type": "stream",
     "text": [
      "Twinkle, twinkle, little star,\n",
      "\tHow I wonder what you are! \n",
      "\t\tUp above the world so high,   \t\t\n",
      "\t\tLike a diamond in the sky. \n",
      "Twinkle, twinkle, little star, \n",
      "\tHow I wonder what you are!\n"
     ]
    }
   ],
   "source": [
    "# Solution\n",
    "print('''Twinkle, twinkle, little star,\n",
    "\tHow I wonder what you are! \n",
    "\t\tUp above the world so high,   \t\t\n",
    "\t\tLike a diamond in the sky. \n",
    "Twinkle, twinkle, little star, \n",
    "\tHow I wonder what you are!''')"
   ]
  },
  {
   "cell_type": "code",
   "execution_count": 8,
   "metadata": {},
   "outputs": [
    {
     "name": "stdout",
     "output_type": "stream",
     "text": [
      "Twinkle, twinkle, little star,\n",
      "\tHow I wonder what you are!\n",
      "\t\tUp above the world so high,\n",
      "\t\tLike a diamond in the sky.\n",
      "Twinkle, twinkle, little star,\n",
      "\tHow I wonder what you are!\n"
     ]
    }
   ],
   "source": [
    "# Alternate Solution\n",
    "print(f\"Twinkle, twinkle, little star,\\n\\tHow I wonder what you are!\\n\\t\\tUp above the world so high,\\n\\t\\tLike a diamond in the sky.\\nTwinkle, twinkle, little star,\\n\\tHow I wonder what you are!\") "
   ]
  },
  {
   "cell_type": "markdown",
   "metadata": {},
   "source": [
    "***"
   ]
  },
  {
   "cell_type": "markdown",
   "metadata": {},
   "source": [
    "## Question-2\n",
    "\n",
    "<strong>Write a Python program to find out what version of Python you are using.</strong><br>"
   ]
  },
  {
   "cell_type": "code",
   "execution_count": 9,
   "metadata": {},
   "outputs": [
    {
     "name": "stdout",
     "output_type": "stream",
     "text": [
      "Python Version: 3.11.4 (tags/v3.11.4:d2340ef, Jun  7 2023, 05:45:37) [MSC v.1934 64 bit (AMD64)]\n",
      "Version Info: sys.version_info(major=3, minor=11, micro=4, releaselevel='final', serial=0)\n"
     ]
    }
   ],
   "source": [
    "# Solution\n",
    "import sys\n",
    "print(f\"Python Version: {sys.version}\\nVersion Info: {sys.version_info}\")"
   ]
  },
  {
   "cell_type": "markdown",
   "metadata": {},
   "source": [
    "---"
   ]
  },
  {
   "cell_type": "markdown",
   "metadata": {},
   "source": [
    "## Question-3\n",
    "\n",
    "<strong>Write a Python program to display the current date and time.</strong><br>\n",
    "\n",
    "**Expected Output:**\n",
    "<pre>\n",
    "Current date and time :\n",
    "2014-07-05 14:34:14\n",
    "</pre>"
   ]
  },
  {
   "cell_type": "code",
   "execution_count": 9,
   "metadata": {},
   "outputs": [
    {
     "name": "stdout",
     "output_type": "stream",
     "text": [
      "Current date and time :\n",
      "2024-07-19 16:07:38\n"
     ]
    }
   ],
   "source": [
    "# Solution\n",
    "import datetime\n",
    "current_instance=datetime.datetime.now()\n",
    "formatted_current_instance=current_instance.strftime(\"%Y-%M-%d %H:%M:%S\")\n",
    "print(f\"Current date and time :\\n{formatted_current_instance}\")"
   ]
  },
  {
   "cell_type": "markdown",
   "metadata": {},
   "source": [
    "---"
   ]
  },
  {
   "cell_type": "markdown",
   "metadata": {},
   "source": [
    "## Question-4\n",
    "\n",
    "<strong>Write a Python program that calculates the area of a circle based on the radius entered by the user.</strong><br>\n",
    "\n",
    "**Expected Output:**\n",
    "<pre>\n",
    "r = 1.1 \n",
    "Area = 3.8013271108436504\n",
    "</pre>"
   ]
  },
  {
   "cell_type": "code",
   "execution_count": 14,
   "metadata": {},
   "outputs": [
    {
     "name": "stdout",
     "output_type": "stream",
     "text": [
      "r = 1.1\n",
      "Area = 3.8013271108436504\n"
     ]
    }
   ],
   "source": [
    "# Solution\n",
    "import math\n",
    "radius=float(input(\"Enter the radius: \"))\n",
    "area=math.pi*(radius**2)\n",
    "print(f\"r = {radius}\\nArea = {area}\")"
   ]
  },
  {
   "cell_type": "markdown",
   "metadata": {},
   "source": [
    "---"
   ]
  },
  {
   "cell_type": "markdown",
   "metadata": {},
   "source": [
    "## Question-5\n",
    "\n",
    "<strong>Write a Python program that accepts the user's first and last name and prints them in reverse order with a space between them.</strong><br>"
   ]
  },
  {
   "cell_type": "code",
   "execution_count": 17,
   "metadata": {},
   "outputs": [
    {
     "name": "stdout",
     "output_type": "stream",
     "text": [
      "Your full name is: Mehta Ronit\n"
     ]
    }
   ],
   "source": [
    "# Solution\n",
    "first_name=input(\"Enter your first name: \")\n",
    "last_name=input(\"Enter your last name: \")\n",
    "print(f\"Your full name is: {last_name} {first_name}\")"
   ]
  },
  {
   "cell_type": "markdown",
   "metadata": {},
   "source": [
    "---"
   ]
  },
  {
   "cell_type": "markdown",
   "metadata": {},
   "source": [
    "## Question-6\n",
    "\n",
    "<strong>Write a Python program that accepts a sequence of comma-separated numbers from the user and generates a list and a tuple of those numbers.</strong><br>\n",
    "\n",
    "**Sample data:**<br>\n",
    "3, 5, 7, 23\n",
    "\n",
    "**Expected Output:**\n",
    "<pre>\n",
    "List : ['3', '5', '7', '23']\n",
    "Tuple : ('3', '5', '7', '23')\n",
    "</pre>"
   ]
  },
  {
   "cell_type": "code",
   "execution_count": 21,
   "metadata": {},
   "outputs": [
    {
     "name": "stdout",
     "output_type": "stream",
     "text": [
      "List : ['3', '5', '7', '23']\n",
      "Tuple : ('3', '5', '7', '23')\n"
     ]
    }
   ],
   "source": [
    "# Solution\n",
    "data=input(\"Enter the numbers: \")\n",
    "my_list=data.split(',')\n",
    "my_tuple=tuple(my_list)\n",
    "print(f\"List : {my_list}\\nTuple : {my_tuple}\")"
   ]
  },
  {
   "cell_type": "markdown",
   "metadata": {},
   "source": [
    "---"
   ]
  },
  {
   "cell_type": "markdown",
   "metadata": {},
   "source": [
    "## Question-7\n",
    "\n",
    "<strong>Write a Python program that accepts a filename from the user and prints the extension of the file.</strong><br>\n",
    "\n",
    "**Sample filename:**<br>\n",
    "abc.java\n",
    "\n",
    "**Expected Output:**\n",
    "<pre>\n",
    "java\n",
    "</pre>"
   ]
  },
  {
   "cell_type": "code",
   "execution_count": 23,
   "metadata": {},
   "outputs": [
    {
     "name": "stdout",
     "output_type": "stream",
     "text": [
      "java\n"
     ]
    }
   ],
   "source": [
    "# Solution\n",
    "filename=input(\"Enter the filename: \")\n",
    "file_type=filename.split(\".\")\n",
    "print(file_type[-1])"
   ]
  },
  {
   "cell_type": "markdown",
   "metadata": {},
   "source": [
    "---"
   ]
  },
  {
   "cell_type": "markdown",
   "metadata": {},
   "source": [
    "## Question-8\n",
    "\n",
    "<strong>Write a Python program to display the first and last colors from the following list.</strong><br>\n",
    "\n",
    "**Sample data:**<br>\n",
    "color_list = [\"Red\",\"Green\",\"White\" ,\"Black\"]\n",
    "\n",
    "**Expected Output:**\n",
    "<pre>\n",
    "Red Black\n",
    "</pre>"
   ]
  },
  {
   "cell_type": "code",
   "execution_count": 25,
   "metadata": {},
   "outputs": [
    {
     "name": "stdout",
     "output_type": "stream",
     "text": [
      "Red Black\n"
     ]
    }
   ],
   "source": [
    "# Solution\n",
    "color_list=[\"Red\", \"Green\", \"White\", \"Black\"]\n",
    "print(f\"{color_list[0]} {color_list[-1]}\")"
   ]
  },
  {
   "cell_type": "markdown",
   "metadata": {},
   "source": [
    "---"
   ]
  },
  {
   "cell_type": "markdown",
   "metadata": {},
   "source": [
    "## Question-9\n",
    "\n",
    "<strong>Write a Python program to display the examination schedule. (extract the date from exam_st_date)</strong><br>\n",
    "\n",
    "**Sample data:**<br>\n",
    "exam_st_date = (11, 12, 2014)\n",
    "\n",
    "**Expected Output:**\n",
    "<pre>\n",
    "The examination will start from : 11/ 12/ 2014\n",
    "</pre>"
   ]
  },
  {
   "cell_type": "code",
   "execution_count": 29,
   "metadata": {},
   "outputs": [
    {
     "name": "stdout",
     "output_type": "stream",
     "text": [
      "The examination will start from: 11/ 12/ 2014\n"
     ]
    }
   ],
   "source": [
    "# Solution\n",
    "exam_st_date=(11, 12, 2014)\n",
    "print(f\"The examination will start from: {exam_st_date[0]}/ {exam_st_date[1]}/ {exam_st_date[2]}\")"
   ]
  },
  {
   "cell_type": "markdown",
   "metadata": {},
   "source": [
    "---"
   ]
  },
  {
   "cell_type": "markdown",
   "metadata": {},
   "source": [
    "## Question-10\n",
    "\n",
    "<strong>Write a Python program that accepts an integer (n) and computes the value of n+nn+nnn.</strong><br>\n",
    "\n",
    "**Sample data:**<br>\n",
    "n=5\n",
    "\n",
    "**Expected Output:**\n",
    "<pre>\n",
    "615\n",
    "</pre>"
   ]
  },
  {
   "cell_type": "code",
   "execution_count": 42,
   "metadata": {},
   "outputs": [
    {
     "name": "stdout",
     "output_type": "stream",
     "text": [
      "615\n"
     ]
    }
   ],
   "source": [
    "# Solution\n",
    "n=int(input(\"Enter the integer: \"))\n",
    "print(n+int(f'{n}{n}')+int(f'{n}{n}{n}'))"
   ]
  },
  {
   "cell_type": "markdown",
   "metadata": {},
   "source": [
    "---"
   ]
  },
  {
   "cell_type": "markdown",
   "metadata": {},
   "source": [
    "## Question-11\n",
    "\n",
    "<strong>Write a Python program to print the documents (syntax, description etc.) of Python built-in function(s).</strong><br>\n",
    "\n",
    "**Sample function:**<br>\n",
    "abs()\n",
    "\n",
    "**Expected Output:**\n",
    "<pre>\n",
    "abs(number) -> number\n",
    "Return the absolute value of the argument.\n",
    "</pre>"
   ]
  },
  {
   "cell_type": "code",
   "execution_count": 7,
   "metadata": {},
   "outputs": [
    {
     "name": "stdout",
     "output_type": "stream",
     "text": [
      "map(func, *iterables) --> map object\n",
      "\n",
      "Make an iterator that computes the function using arguments from\n",
      "each of the iterables.  Stops when the shortest iterable is exhausted.\n"
     ]
    }
   ],
   "source": [
    "# Solution\n",
    "print(map.__doc__)"
   ]
  },
  {
   "cell_type": "markdown",
   "metadata": {},
   "source": [
    "---"
   ]
  },
  {
   "cell_type": "markdown",
   "metadata": {},
   "source": [
    "## Question-12\n",
    "\n",
    "<strong>Write a Python program that prints the calendar for a given month and year.</strong><br>\n",
    "Note: Use 'calender' module."
   ]
  },
  {
   "cell_type": "code",
   "execution_count": 13,
   "metadata": {},
   "outputs": [
    {
     "name": "stdout",
     "output_type": "stream",
     "text": [
      "Current month's calender: \n",
      "\n",
      "   September 2024\n",
      "Mo Tu We Th Fr Sa Su\n",
      "                   1\n",
      " 2  3  4  5  6  7  8\n",
      " 9 10 11 12 13 14 15\n",
      "16 17 18 19 20 21 22\n",
      "23 24 25 26 27 28 29\n",
      "30\n",
      "\n"
     ]
    }
   ],
   "source": [
    "# Solution\n",
    "import calendar\n",
    "current_year=int(input(\"Enter a year: \"))\n",
    "current_month=int(input(\"Enter a month: \"))\n",
    "print(f\"Current month's calender: \\n\\n{calendar.month(current_year, current_month)}\")"
   ]
  },
  {
   "cell_type": "markdown",
   "metadata": {},
   "source": [
    "---"
   ]
  },
  {
   "cell_type": "markdown",
   "metadata": {},
   "source": [
    "## Question-13\n",
    "\n",
    "<strong>Write a Python program to print the following 'here document'.</strong><br>\n",
    "\n",
    "**Sample string:**<br>\n",
    "a string that you \"don't\" have to escape<br>\n",
    "This<br>\n",
    "is a ....... multi-line<br>\n",
    "heredoc string --------> example<br>"
   ]
  },
  {
   "cell_type": "code",
   "execution_count": 14,
   "metadata": {},
   "outputs": [
    {
     "name": "stdout",
     "output_type": "stream",
     "text": [
      "\n",
      "a string that you \"don't\" have to escape\n",
      "This\n",
      "is a ....... multi-line\n",
      "heredoc string --------> example\n"
     ]
    }
   ],
   "source": [
    "# Solution\n",
    "print('''\n",
    "a string that you \"don't\" have to escape\n",
    "This\n",
    "is a ....... multi-line\n",
    "heredoc string --------> example''')"
   ]
  },
  {
   "cell_type": "markdown",
   "metadata": {},
   "source": [
    "---"
   ]
  },
  {
   "cell_type": "markdown",
   "metadata": {},
   "source": [
    "## Question-14\n",
    "\n",
    "<strong>Write a Python program to calculate the number of days between two dates.</strong><br>\n",
    "\n",
    "**Sample dates:**<br>\n",
    "(2014, 7, 2), (2014, 7, 11)\n",
    "\n",
    "**Expected Output:**\n",
    "<pre>\n",
    "9 days\n",
    "</pre>"
   ]
  },
  {
   "cell_type": "code",
   "execution_count": 25,
   "metadata": {},
   "outputs": [
    {
     "name": "stdout",
     "output_type": "stream",
     "text": [
      "9 days\n"
     ]
    }
   ],
   "source": [
    "# Solution\n",
    "import datetime\n",
    "start_date=datetime.date(2014, 7, 2)\n",
    "end_date=datetime.date(2014, 7, 11)\n",
    "diff_days=end_date-start_date\n",
    "print(f\"{diff_days.days} days\")"
   ]
  },
  {
   "cell_type": "markdown",
   "metadata": {},
   "source": [
    "---"
   ]
  },
  {
   "cell_type": "markdown",
   "metadata": {},
   "source": [
    "## Question-15\n",
    "\n",
    "<strong>Write a Python program to get the volume of a sphere with radius six.</strong><br>"
   ]
  },
  {
   "cell_type": "code",
   "execution_count": 26,
   "metadata": {},
   "outputs": [
    {
     "name": "stdout",
     "output_type": "stream",
     "text": [
      "Volume: 904.7786842338603\n"
     ]
    }
   ],
   "source": [
    "# Solution\n",
    "import math\n",
    "radius=6\n",
    "volume=(4/3)*math.pi*(radius**3)\n",
    "print(f\"Volume: {volume}\")"
   ]
  },
  {
   "cell_type": "markdown",
   "metadata": {},
   "source": [
    "---"
   ]
  },
  {
   "cell_type": "markdown",
   "metadata": {},
   "source": [
    "## Question-16\n",
    "\n",
    "<strong>Write a Python program to calculate the difference between a given number and 17. If the number is greater than 17, return twice the absolute difference.</strong><br>"
   ]
  },
  {
   "cell_type": "code",
   "execution_count": 54,
   "metadata": {},
   "outputs": [
    {
     "name": "stdout",
     "output_type": "stream",
     "text": [
      "Given number: 22\n",
      "Answer: 10\n",
      "Given number: 14\n",
      "Answer: 3\n"
     ]
    }
   ],
   "source": [
    "# Solution\n",
    "def diff_17(n):\n",
    "    '''Return the absolute difference between the given number and 17. If the number is greater than 17 then returns twice the absolute difference.'''\n",
    "    if n>17:\n",
    "        ans=abs(17-n)*2\n",
    "    else:\n",
    "        ans=abs(n-17)\n",
    "    return ans\n",
    "\n",
    "print(f\"Given number: 22\\nAnswer: {diff_17(22)}\")\n",
    "print(f\"Given number: 14\\nAnswer: {diff_17(14)}\")"
   ]
  },
  {
   "cell_type": "markdown",
   "metadata": {},
   "source": [
    "---"
   ]
  },
  {
   "cell_type": "markdown",
   "metadata": {},
   "source": [
    "## Question-17\n",
    "\n",
    "<strong>Write a Python program to test whether a number is within 100 of 1000 or 2000.</strong><br>"
   ]
  },
  {
   "cell_type": "code",
   "execution_count": 42,
   "metadata": {},
   "outputs": [
    {
     "name": "stdout",
     "output_type": "stream",
     "text": [
      "Given number: 919\n",
      "Answer: True\n",
      "Given number: 800\n",
      "Answer: False\n",
      "Given number: 2212\n",
      "Answer: False\n",
      "Given number: 2009\n",
      "Answer: True\n"
     ]
    }
   ],
   "source": [
    "def near_1000_2000(n):\n",
    "    '''Checks whether the given number is in proximity of 1000 or 2000 by atmost 100 units.'''\n",
    "    if abs(1000-n)<=100 or abs(2000-n)<=100:\n",
    "        return True\n",
    "    return False\n",
    "\n",
    "print(f\"Given number: 919\\nAnswer: {near_1000_2000(919)}\")\n",
    "print(f\"Given number: 800\\nAnswer: {near_1000_2000(800)}\")\n",
    "print(f\"Given number: 2212\\nAnswer: {near_1000_2000(2212)}\")\n",
    "print(f\"Given number: 2009\\nAnswer: {near_1000_2000(2009)}\")"
   ]
  },
  {
   "cell_type": "markdown",
   "metadata": {},
   "source": [
    "---"
   ]
  },
  {
   "cell_type": "markdown",
   "metadata": {},
   "source": [
    "## Question-18\n",
    "\n",
    "<strong>Write a Python program to calculate the sum of three given numbers. If the values are equal, return three times their sum.</strong><br>"
   ]
  },
  {
   "cell_type": "code",
   "execution_count": 41,
   "metadata": {},
   "outputs": [
    {
     "name": "stdout",
     "output_type": "stream",
     "text": [
      "Num1: 3, Num2: 3, Num3: 3\n"
     ]
    },
    {
     "data": {
      "text/plain": [
       "'Sum: 27'"
      ]
     },
     "execution_count": 41,
     "metadata": {},
     "output_type": "execute_result"
    }
   ],
   "source": [
    "# Solution\n",
    "def sum_abc(a, b, c):\n",
    "    '''Return the sum of three numbers. If all three numbers are equal, it then returns thrice the sum.'''\n",
    "    print(f\"Num1: {a}, Num2: {b}, Num3: {c}\")\n",
    "    if a==b and b==c:\n",
    "        return f\"Sum: {(a+b+c)*3}\"\n",
    "    return f\"Sum: {a+b+c}\"\n",
    "\n",
    "first_num=int(input(\"Enter the first number: \")) \n",
    "sec_num=int(input(\"Enter the second number: \")) \n",
    "third_num=int(input(\"Enter the third number: \"))\n",
    "sum_abc(first_num, sec_num, third_num)"
   ]
  },
  {
   "cell_type": "markdown",
   "metadata": {},
   "source": [
    "---"
   ]
  },
  {
   "cell_type": "markdown",
   "metadata": {},
   "source": [
    "## Question-19\n",
    "\n",
    "<strong>Write a Python program to get a newly-generated string from a given string where \"Is\" has been added to the front. Return the string unchanged if the given string already begins with \"Is\".</strong><br>"
   ]
  },
  {
   "cell_type": "code",
   "execution_count": 53,
   "metadata": {},
   "outputs": [
    {
     "name": "stdout",
     "output_type": "stream",
     "text": [
      "Given String: A\n"
     ]
    },
    {
     "data": {
      "text/plain": [
       "'Manipulated String: IsA'"
      ]
     },
     "execution_count": 53,
     "metadata": {},
     "output_type": "execute_result"
    }
   ],
   "source": [
    "# Solution\n",
    "def string_mani(text):\n",
    "    '''Returns a manipulated string with the initials 'Is' in the beginning.'''\n",
    "    print(f\"Given String: {text}\")\n",
    "    mani=text[0:2].lower()\n",
    "    ans=text\n",
    "    if mani!=\"is\":\n",
    "        ans=\"Is\"+text\n",
    "    return f\"Manipulated String: {ans}\"\n",
    "string_mani(\"A\")"
   ]
  },
  {
   "cell_type": "markdown",
   "metadata": {},
   "source": [
    "---"
   ]
  },
  {
   "cell_type": "markdown",
   "metadata": {},
   "source": [
    "## Question-20\n",
    "\n",
    "<strong>Write a Python program that returns a string that is n (non-negative integer) copies of a given string.</strong><br>"
   ]
  },
  {
   "cell_type": "code",
   "execution_count": 2,
   "metadata": {},
   "outputs": [
    {
     "data": {
      "text/plain": [
       "'.py.py.py'"
      ]
     },
     "execution_count": 2,
     "metadata": {},
     "output_type": "execute_result"
    }
   ],
   "source": [
    "# Solution\n",
    "def copy_machine(text, n):\n",
    "    '''Returns 'n' copies of a given string.'''\n",
    "    return f\"{text*n}\"\n",
    "\n",
    "copy_machine(\".py\", 3)"
   ]
  },
  {
   "cell_type": "markdown",
   "metadata": {},
   "source": [
    "---"
   ]
  },
  {
   "cell_type": "markdown",
   "metadata": {},
   "source": [
    "## Question-21\n",
    "\n",
    "<strong>Write a Python program that determines whether a given number (accepted from the user) is even or odd, and prints an appropriate message to the user.</strong><br>"
   ]
  },
  {
   "cell_type": "code",
   "execution_count": 10,
   "metadata": {},
   "outputs": [
    {
     "data": {
      "text/plain": [
       "'The number 5 is an odd number.'"
      ]
     },
     "execution_count": 10,
     "metadata": {},
     "output_type": "execute_result"
    }
   ],
   "source": [
    "# Solution\n",
    "def eve_odd(n):\n",
    "    '''To check whether a number is odd or even'''\n",
    "    if n%2==0:\n",
    "        return f\"The number {n} is an even number.\"\n",
    "    return f\"The number {n} is an odd number.\"\n",
    "\n",
    "num=int(input(\"Enter a number: \"))\n",
    "eve_odd(num)"
   ]
  },
  {
   "cell_type": "markdown",
   "metadata": {},
   "source": [
    "---"
   ]
  },
  {
   "cell_type": "markdown",
   "metadata": {},
   "source": [
    "## Question-22\n",
    "\n",
    "<strong>Write a Python program to count the number 4 in a given list.</strong><br>"
   ]
  },
  {
   "cell_type": "code",
   "execution_count": 1,
   "metadata": {},
   "outputs": [
    {
     "data": {
      "text/plain": [
       "4"
      ]
     },
     "execution_count": 1,
     "metadata": {},
     "output_type": "execute_result"
    }
   ],
   "source": [
    "# Solution\n",
    "def four_counter(list):\n",
    "    '''Return the number of occurences of the number '4' in a given list.'''\n",
    "    counter=0\n",
    "    for i in list:\n",
    "        if i==4:\n",
    "            counter+=1\n",
    "    return counter\n",
    "\n",
    "my_list=[1,2,3,4,5,6,7,4,9,10,11,4,4]\n",
    "four_counter(my_list)"
   ]
  },
  {
   "cell_type": "markdown",
   "metadata": {},
   "source": [
    "---"
   ]
  },
  {
   "cell_type": "markdown",
   "metadata": {},
   "source": [
    "## Question-23\n",
    "\n",
    "<strong>Write a Python program to get n (non-negative integer) copies of the first 2 characters of a given string. Return n copies of the whole string if the length is less than 2.</strong><br>"
   ]
  },
  {
   "cell_type": "code",
   "execution_count": 9,
   "metadata": {},
   "outputs": [
    {
     "name": "stdout",
     "output_type": "stream",
     "text": [
      "abab\n",
      "ppp\n"
     ]
    }
   ],
   "source": [
    "# Solution\n",
    "def copy_machine2(text, n):\n",
    "    '''Returns 'n' copies of a given string, but if the string's length is more than 2, than returns 'n' copies of the first two characters of the string.'''\n",
    "    if len(text)>2:\n",
    "        rep_text=text[:2]\n",
    "        return f\"{rep_text*n}\"\n",
    "    return f\"{text*n}\"\n",
    "\n",
    "print(copy_machine2('abcdef', 2))\n",
    "print(copy_machine2('p', 3))"
   ]
  },
  {
   "cell_type": "markdown",
   "metadata": {},
   "source": [
    "---"
   ]
  },
  {
   "cell_type": "markdown",
   "metadata": {},
   "source": [
    "## Question-24\n",
    "\n",
    "<strong>Write a Python program to test whether a passed letter is a vowel or not.</strong><br>"
   ]
  },
  {
   "cell_type": "code",
   "execution_count": 11,
   "metadata": {},
   "outputs": [
    {
     "name": "stdout",
     "output_type": "stream",
     "text": [
      "True\n",
      "False\n"
     ]
    }
   ],
   "source": [
    "# Solution\n",
    "def vowel_checker(n):\n",
    "    '''Checks if the given character is a vowel or not.'''\n",
    "    vowels=['a', 'e', 'i', 'o', 'u']\n",
    "    if n in vowels:\n",
    "        return True\n",
    "    return False\n",
    "\n",
    "print(vowel_checker('a'))\n",
    "print(vowel_checker('b'))"
   ]
  },
  {
   "cell_type": "markdown",
   "metadata": {},
   "source": [
    "---"
   ]
  },
  {
   "cell_type": "markdown",
   "metadata": {},
   "source": [
    "## Question-25\n",
    "\n",
    "<strong>Write a Python program that checks whether a specified value is contained within a group of values.</strong><br>\n",
    "\n",
    "**Sample data:**<br>\n",
    "3 -> [1, 5, 8, 3] : True<br>\n",
    "-1 -> [1, 5, 8, 3] : False"
   ]
  },
  {
   "cell_type": "code",
   "execution_count": 14,
   "metadata": {},
   "outputs": [
    {
     "name": "stdout",
     "output_type": "stream",
     "text": [
      "True\n",
      "False\n"
     ]
    }
   ],
   "source": [
    "# Solution\n",
    "def value_checker(list, n):\n",
    "    '''Checks if a particular value is present in the list or not.'''\n",
    "    if n in list:\n",
    "        return True\n",
    "    return False\n",
    "\n",
    "print(value_checker([1, 5, 8, 3], 3))\n",
    "print(value_checker([1, 5, 8, 3], -1))"
   ]
  },
  {
   "cell_type": "markdown",
   "metadata": {},
   "source": [
    "---"
   ]
  },
  {
   "cell_type": "markdown",
   "metadata": {},
   "source": [
    "## Question-26\n",
    "\n",
    "<strong>Write a Python program to create a histogram from a given list of integers.</strong><br>"
   ]
  },
  {
   "cell_type": "code",
   "execution_count": 13,
   "metadata": {},
   "outputs": [
    {
     "name": "stdout",
     "output_type": "stream",
     "text": [
      "First pattern: \n",
      "**\n",
      "***\n",
      "*****\n",
      "****\n",
      "Second pattern: \n",
      "******\n",
      "*******\n",
      "********\n",
      "*********\n"
     ]
    }
   ],
   "source": [
    "# Solution\n",
    "def star_pat(list):\n",
    "    '''Return a star pattern of the given list.'''\n",
    "    for i in list:\n",
    "        print(\"*\"*i)\n",
    "\n",
    "print(\"First pattern: \")\n",
    "star_pat([2, 3, 5, 4])\n",
    "print(\"Second pattern: \")\n",
    "star_pat([6, 7, 8, 9])"
   ]
  },
  {
   "cell_type": "markdown",
   "metadata": {},
   "source": [
    "---"
   ]
  },
  {
   "cell_type": "markdown",
   "metadata": {},
   "source": [
    "## Question-27\n",
    "\n",
    "<strong>Write a Python program that concatenates all elements in a list into a string and returns it.</strong><br>"
   ]
  },
  {
   "cell_type": "code",
   "execution_count": 17,
   "metadata": {},
   "outputs": [
    {
     "name": "stdout",
     "output_type": "stream",
     "text": [
      "12HelloTrue\n"
     ]
    }
   ],
   "source": [
    "# Solution\n",
    "def conc_list(list):\n",
    "    '''Concatenates all the values in a list.'''\n",
    "    output=\"\"\n",
    "    for i in list:\n",
    "        output+=str(i)\n",
    "    print(output)\n",
    "\n",
    "conc_list([1, 2, \"Hello\", True])"
   ]
  },
  {
   "cell_type": "markdown",
   "metadata": {},
   "source": [
    "---"
   ]
  },
  {
   "cell_type": "markdown",
   "metadata": {},
   "source": [
    "## Question-28\n",
    "\n",
    "<strong>Write a Python program to print all even numbers from a given list of numbers in the same order and stop printing any after 237 in the sequence.</strong><br>\n",
    "\n",
    "**Sample Data:**<br>\n",
    "numbers = [<br>\n",
    "    386, 462, 47, 418, 907, 344, 236, 375, 823, 566, 597, 978, 328, 615, 953, 345, <br>\n",
    "    399, 162, 758, 219, 918, 237, 412, 566, 826, 248, 866, 950, 626, 949, 687, 217, <br>\n",
    "    815, 67, 104, 58, 512, 24, 892, 894, 767, 553, 81, 379, 843, 831, 445, 742, 717, <br>\n",
    "    958,743, 527<br>\n",
    "    ]"
   ]
  },
  {
   "cell_type": "code",
   "execution_count": 20,
   "metadata": {},
   "outputs": [
    {
     "name": "stdout",
     "output_type": "stream",
     "text": [
      "386\n",
      "462\n",
      "418\n",
      "344\n",
      "236\n",
      "566\n",
      "978\n",
      "328\n",
      "162\n",
      "758\n",
      "918\n"
     ]
    }
   ],
   "source": [
    "# Solution\n",
    "numbers = [    \n",
    "    386, 462, 47, 418, 907, 344, 236, 375, 823, 566, 597, 978, 328, 615, 953, 345, \n",
    "    399, 162, 758, 219, 918, 237, 412, 566, 826, 248, 866, 950, 626, 949, 687, 217, \n",
    "    815, 67, 104, 58, 512, 24, 892, 894, 767, 553, 81, 379, 843, 831, 445, 742, 717, \n",
    "    958,743, 527\n",
    "    ]\n",
    "for i in numbers:\n",
    "    if i==numbers[numbers.index(237)+1]:\n",
    "        break\n",
    "    elif i%2==0:\n",
    "        print(i)"
   ]
  },
  {
   "cell_type": "markdown",
   "metadata": {},
   "source": [
    "---"
   ]
  },
  {
   "cell_type": "markdown",
   "metadata": {},
   "source": [
    "## Question-29\n",
    "\n",
    "<strong>Write a Python program that prints out all colors from color_list_1 that are not present in color_list_2.</strong><br>\n",
    "\n",
    "**Test Data:**<br>\n",
    "color_list_1 = set([\"White\", \"Black\", \"Red\"])<br>\n",
    "color_list_2 = set([\"Red\", \"Green\"])\n",
    "\n",
    "**Output:**\n",
    "<pre>\n",
    "{'Black', 'White'}\n",
    "</pre>"
   ]
  },
  {
   "cell_type": "code",
   "execution_count": 39,
   "metadata": {},
   "outputs": [
    {
     "name": "stdout",
     "output_type": "stream",
     "text": [
      "{'Black', 'White'}\n"
     ]
    }
   ],
   "source": [
    "# Solution\n",
    "color_list_1=set([\"White\", \"Black\", \"Red\"])\n",
    "color_list_2=set([\"Red\", \"Green\"])\n",
    "intersection_color=color_list_1.difference(color_list_2)\n",
    "print(intersection_color)"
   ]
  },
  {
   "cell_type": "markdown",
   "metadata": {},
   "source": [
    "---"
   ]
  },
  {
   "cell_type": "markdown",
   "metadata": {},
   "source": [
    "## Question-30\n",
    "\n",
    "<strong>Write a Python program that will accept the base and height of a triangle and compute its area.</strong><br>"
   ]
  },
  {
   "cell_type": "code",
   "execution_count": 25,
   "metadata": {},
   "outputs": [
    {
     "name": "stdout",
     "output_type": "stream",
     "text": [
      "Base Entered: 20\n",
      "Height Entered: 40\n"
     ]
    },
    {
     "data": {
      "text/plain": [
       "400.0"
      ]
     },
     "execution_count": 25,
     "metadata": {},
     "output_type": "execute_result"
    }
   ],
   "source": [
    "def tri_area(b, h):\n",
    "    '''Calculates the area of a triangle.'''\n",
    "    area=0.5*b*h\n",
    "    return area\n",
    "\n",
    "base=int(input(\"Enter the base of the triangle: \"))\n",
    "print(f\"Base Entered: {base}\")\n",
    "height=int(input(\"Enter the height of the triangle: \"))\n",
    "print(f\"Height Entered: {height}\")\n",
    "tri_area(base, height)"
   ]
  },
  {
   "cell_type": "markdown",
   "metadata": {},
   "source": [
    "---"
   ]
  },
  {
   "cell_type": "code",
   "execution_count": null,
   "metadata": {},
   "outputs": [],
   "source": []
  }
 ],
 "metadata": {
  "kernelspec": {
   "display_name": "Python 3",
   "language": "python",
   "name": "python3"
  },
  "language_info": {
   "codemirror_mode": {
    "name": "ipython",
    "version": 3
   },
   "file_extension": ".py",
   "mimetype": "text/x-python",
   "name": "python",
   "nbconvert_exporter": "python",
   "pygments_lexer": "ipython3",
   "version": "3.11.4"
  }
 },
 "nbformat": 4,
 "nbformat_minor": 2
}
